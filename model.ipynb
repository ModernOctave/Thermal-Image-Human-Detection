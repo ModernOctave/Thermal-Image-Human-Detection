{
  "cells": [
    {
      "cell_type": "markdown",
      "metadata": {
        "colab_type": "text",
        "id": "view-in-github"
      },
      "source": [
        "<a href=\"https://colab.research.google.com/github/ModernOctave/Thermal-Image-Human-Detection/blob/main/model.ipynb\" target=\"_parent\"><img src=\"https://colab.research.google.com/assets/colab-badge.svg\" alt=\"Open In Colab\"/></a>"
      ]
    },
    {
      "cell_type": "markdown",
      "metadata": {},
      "source": [
        "# Pull Code"
      ]
    },
    {
      "cell_type": "code",
      "execution_count": null,
      "metadata": {},
      "outputs": [],
      "source": [
        "!git clone -b v2 https://github.com/ModernOctave/Thermal-Image-Human-Detection.git\n",
        "%cd Thermal-Image-Human-Detection"
      ]
    },
    {
      "cell_type": "markdown",
      "metadata": {
        "id": "HG40xyEpbWwu"
      },
      "source": [
        "# Download Raw Dataset"
      ]
    },
    {
      "cell_type": "code",
      "execution_count": 2,
      "metadata": {
        "id": "fbkXag9e8JGW"
      },
      "outputs": [
        {
          "name": "stdout",
          "output_type": "stream",
          "text": [
            "--2022-07-15 09:50:37--  https://adas-dataset-v2.flirconservator.com/dataset/full/FLIR_ADAS_v2.zip\n",
            "Loaded CA certificate '/etc/ssl/certs/ca-certificates.crt'\n",
            "Resolving adas-dataset-v2.flirconservator.com (adas-dataset-v2.flirconservator.com)... 54.182.0.78, 54.182.0.101, 54.182.0.56, ...\n",
            "Connecting to adas-dataset-v2.flirconservator.com (adas-dataset-v2.flirconservator.com)|54.182.0.78|:443... connected.\n",
            "HTTP request sent, awaiting response... 200 OK\n",
            "Length: 11865443849 (11G) [application/zip]\n",
            "Saving to: ‘FLIR_ADAS_v2.zip’\n",
            "\n",
            "FLIR_ADAS_v2.zip    100%[===================>]  11.05G  20.3MB/s    in 9m 22s  \n",
            "\n",
            "2022-07-15 10:00:00 (20.2 MB/s) - ‘FLIR_ADAS_v2.zip’ saved [11865443849/11865443849]\n",
            "\n"
          ]
        }
      ],
      "source": [
        "!wget -v https://adas-dataset-v2.flirconservator.com/dataset/full/FLIR_ADAS_v2.zip\n",
        "!unzip -q FLIR_ADAS_v2.zip -d FLIR_ADAS_v2"
      ]
    },
    {
      "cell_type": "markdown",
      "metadata": {
        "id": "qvHS-zQk8-wp"
      },
      "source": [
        "# Install Dependancies\n"
      ]
    },
    {
      "cell_type": "code",
      "execution_count": 1,
      "metadata": {},
      "outputs": [
        {
          "name": "stderr",
          "output_type": "stream",
          "text": [
            "2022-07-19 13:32:54.686167: I tensorflow/core/util/util.cc:169] oneDNN custom operations are on. You may see slightly different numerical results due to floating-point round-off errors from different computation orders. To turn them off, set the environment variable `TF_ENABLE_ONEDNN_OPTS=0`.\n",
            "2022-07-19 13:32:54.727714: W tensorflow/stream_executor/platform/default/dso_loader.cc:64] Could not load dynamic library 'libcudart.so.11.0'; dlerror: libcudart.so.11.0: cannot open shared object file: No such file or directory\n",
            "2022-07-19 13:32:54.727733: I tensorflow/stream_executor/cuda/cudart_stub.cc:29] Ignore above cudart dlerror if you do not have a GPU set up on your machine.\n"
          ]
        }
      ],
      "source": [
        "import tensorflow as tf"
      ]
    },
    {
      "cell_type": "markdown",
      "metadata": {},
      "source": [
        "Run the following if using colab,"
      ]
    },
    {
      "cell_type": "code",
      "execution_count": null,
      "metadata": {
        "id": "5d-EigR5zlUz"
      },
      "outputs": [],
      "source": [
        "# Import Tensorflow 2.0\n",
        "%tensorflow_version 2.x\n",
        "\n",
        "# Check that we are using a GPU, if not switch runtimes\n",
        "#   using Runtime > Change Runtime Type > GPU\n",
        "assert len(tf.config.list_physical_devices('GPU')) > 0"
      ]
    },
    {
      "cell_type": "markdown",
      "metadata": {
        "id": "r7x-jwDpzegI"
      },
      "source": [
        "# Create datasets"
      ]
    },
    {
      "cell_type": "code",
      "execution_count": 2,
      "metadata": {},
      "outputs": [
        {
          "name": "stdout",
          "output_type": "stream",
          "text": [
            "loading annotations into memory...\n",
            "Done (t=1.11s)\n",
            "creating index...\n",
            "index created!\n",
            "labeling the dataset...\n"
          ]
        },
        {
          "name": "stderr",
          "output_type": "stream",
          "text": [
            "100%|██████████| 10742/10742 [00:00<00:00, 148386.59it/s]\n"
          ]
        }
      ],
      "source": [
        "from preprocessing import label_dataset, split_dataset, DataGen\n",
        "\n",
        "labeled_dataset = label_dataset(dataset_path=\"FLIR_ADAS_v2/images_thermal_train/\")\n",
        "train_dataset, validation_dataset = split_dataset(labeled_dataset, 0.8, shuffle=True)\n",
        "\n",
        "train_gen = DataGen(train_dataset, batch_size=32)\n",
        "test_gen = DataGen(test_dataset, batch_size=32)"
      ]
    },
    {
      "cell_type": "markdown",
      "metadata": {
        "id": "gQDTxvHBd0Wg"
      },
      "source": [
        "# Model\n"
      ]
    },
    {
      "cell_type": "markdown",
      "metadata": {
        "id": "uE8cSAGShXvZ"
      },
      "source": [
        "## Create the model"
      ]
    },
    {
      "cell_type": "code",
      "execution_count": 6,
      "metadata": {},
      "outputs": [
        {
          "name": "stdout",
          "output_type": "stream",
          "text": [
            "Model: \"sequential_1\"\n",
            "_________________________________________________________________\n",
            " Layer (type)                Output Shape              Param #   \n",
            "=================================================================\n",
            " resizing_1 (Resizing)       (None, 384, 384, 3)       0         \n",
            "                                                                 \n",
            " efficientnetv2-s (Functiona  (None, None, None, 1280)  20331360 \n",
            " l)                                                              \n",
            "                                                                 \n",
            " global_average_pooling2d_1   (None, 1280)             0         \n",
            " (GlobalAveragePooling2D)                                        \n",
            "                                                                 \n",
            " dense_1 (Dense)             (None, 1)                 1281      \n",
            "                                                                 \n",
            "=================================================================\n",
            "Total params: 20,332,641\n",
            "Trainable params: 20,178,769\n",
            "Non-trainable params: 153,872\n",
            "_________________________________________________________________\n",
            "None\n"
          ]
        }
      ],
      "source": [
        "from tensorflow.keras.applications.efficientnet_v2 import EfficientNetV2S\n",
        "from tensorflow.keras.metrics import BinaryAccuracy, AUC, FalsePositives, FalseNegatives\n",
        "\n",
        "model = tf.keras.Sequential([\n",
        "    tf.keras.layers.Resizing(384, 384, input_shape=(512, 640, 3)),\n",
        "    EfficientNetV2S(include_top=False),\n",
        "    tf.keras.layers.GlobalAveragePooling2D(),\n",
        "    tf.keras.layers.Dense(1, activation='sigmoid')\n",
        "])\n",
        "\n",
        "model.compile(optimizer=tf.keras.optimizers.Adam(),\n",
        "             loss=tf.keras.losses.BinaryCrossentropy(),\n",
        "             metrics=[BinaryAccuracy(), AUC(), FalsePositives(), FalseNegatives()])\n",
        "\n",
        "print(model.summary())"
      ]
    },
    {
      "cell_type": "markdown",
      "metadata": {},
      "source": [
        "# Load or Save the Model"
      ]
    },
    {
      "cell_type": "code",
      "execution_count": null,
      "metadata": {},
      "outputs": [],
      "source": [
        "model.save('model')"
      ]
    },
    {
      "cell_type": "code",
      "execution_count": null,
      "metadata": {},
      "outputs": [],
      "source": [
        "model = tf.keras.models.load_model('model')"
      ]
    },
    {
      "cell_type": "markdown",
      "metadata": {
        "id": "EjZ3zX0hX-Q5"
      },
      "source": [
        "## Train the model"
      ]
    },
    {
      "cell_type": "code",
      "execution_count": 11,
      "metadata": {
        "id": "LTNuDdBMX7xc"
      },
      "outputs": [
        {
          "name": "stdout",
          "output_type": "stream",
          "text": [
            "Epoch 1/10\n",
            "  1/269 [..............................] - ETA: 3:22:38 - loss: 0.7309 - binary_accuracy: 0.5000"
          ]
        }
      ],
      "source": [
        "from tensorflow.keras.callbacks import EarlyStopping\n",
        "\n",
        "callbacks = [EarlyStopping(patience=2, restore_best_weights=True)]\n",
        "\n",
        "model.fit(train_gen, epochs=1000, validation_data=test_gen, callbacks=callbacks)"
      ]
    },
    {
      "cell_type": "markdown",
      "metadata": {
        "id": "NS5yngy6_1dO"
      },
      "source": [
        "## Test the model\n"
      ]
    },
    {
      "cell_type": "code",
      "execution_count": null,
      "metadata": {
        "id": "ExSEsv0b_6Nx"
      },
      "outputs": [],
      "source": [
        "loss, accuracy = cnn_model.evaluate(test_images, test_labels, batch_size=1)"
      ]
    }
  ],
  "metadata": {
    "accelerator": "GPU",
    "colab": {
      "authorship_tag": "ABX9TyPehCNxKIZwhZ61eTGu6GaJ",
      "collapsed_sections": [],
      "include_colab_link": true,
      "name": "Thermal_Image_Human_Detection.ipynb",
      "private_outputs": true,
      "provenance": []
    },
    "kernelspec": {
      "display_name": "Python 3.10.5 ('venv': venv)",
      "language": "python",
      "name": "python3"
    },
    "language_info": {
      "codemirror_mode": {
        "name": "ipython",
        "version": 3
      },
      "file_extension": ".py",
      "mimetype": "text/x-python",
      "name": "python",
      "nbconvert_exporter": "python",
      "pygments_lexer": "ipython3",
      "version": "3.10.5"
    },
    "vscode": {
      "interpreter": {
        "hash": "3f3cdebddbe2204af38c24e5fdc578d6a582093b375fdf5e2b06afcb814f8bfb"
      }
    }
  },
  "nbformat": 4,
  "nbformat_minor": 0
}
