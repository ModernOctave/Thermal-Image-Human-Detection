{
  "cells": [
    {
      "cell_type": "markdown",
      "metadata": {
        "colab_type": "text",
        "id": "view-in-github"
      },
      "source": [
        "<a href=\"https://colab.research.google.com/github/ModernOctave/Thermal-Image-Human-Detection/blob/main/model.ipynb\" target=\"_parent\"><img src=\"https://colab.research.google.com/assets/colab-badge.svg\" alt=\"Open In Colab\"/></a>"
      ]
    },
    {
      "cell_type": "markdown",
      "metadata": {},
      "source": [
        "# Pull Code"
      ]
    },
    {
      "cell_type": "code",
      "execution_count": null,
      "metadata": {},
      "outputs": [],
      "source": [
        "!git clone -b v2 https://github.com/ModernOctave/Thermal-Image-Human-Detection.git\n",
        "%cd Thermal-Image-Human-Detection"
      ]
    },
    {
      "cell_type": "markdown",
      "metadata": {
        "id": "HG40xyEpbWwu"
      },
      "source": [
        "# Download Raw Dataset"
      ]
    },
    {
      "cell_type": "code",
      "execution_count": null,
      "metadata": {
        "id": "fbkXag9e8JGW"
      },
      "outputs": [],
      "source": [
        "!wget -v https://adas-dataset-v2.flirconservator.com/dataset/full/FLIR_ADAS_v2.zip\n",
        "!unzip -q FLIR_ADAS_v2.zip -d FLIR_ADAS_v2"
      ]
    },
    {
      "cell_type": "markdown",
      "metadata": {
        "id": "qvHS-zQk8-wp"
      },
      "source": [
        "# Install Dependancies\n"
      ]
    },
    {
      "cell_type": "code",
      "execution_count": null,
      "metadata": {},
      "outputs": [],
      "source": [
        "import tensorflow as tf"
      ]
    },
    {
      "cell_type": "markdown",
      "metadata": {},
      "source": [
        "Run the following if using colab,"
      ]
    },
    {
      "cell_type": "code",
      "execution_count": null,
      "metadata": {
        "id": "5d-EigR5zlUz"
      },
      "outputs": [],
      "source": [
        "# Import Tensorflow 2.0\n",
        "%tensorflow_version 2.x\n",
        "\n",
        "# Check that we are using a GPU, if not switch runtimes\n",
        "#   using Runtime > Change Runtime Type > GPU\n",
        "assert len(tf.config.list_physical_devices('GPU')) > 0"
      ]
    },
    {
      "cell_type": "markdown",
      "metadata": {
        "id": "r7x-jwDpzegI"
      },
      "source": [
        "# Create datasets"
      ]
    },
    {
      "cell_type": "code",
      "execution_count": null,
      "metadata": {},
      "outputs": [],
      "source": [
        "from preprocessing import label_dataset, split_dataset, DataGen\n",
        "\n",
        "labeled_dataset = label_dataset(dataset_path=\"FLIR_ADAS_v2/images_thermal_train/\")\n",
        "train_dataset, test_dataset = split_dataset(labeled_dataset, 0.8, shuffle=True)\n",
        "\n",
        "train_gen = DataGen(train_dataset, batch_size=32)\n",
        "test_gen = DataGen(test_dataset, batch_size=32)"
      ]
    },
    {
      "cell_type": "markdown",
      "metadata": {
        "id": "gQDTxvHBd0Wg"
      },
      "source": [
        "# Model\n"
      ]
    },
    {
      "cell_type": "markdown",
      "metadata": {
        "id": "uE8cSAGShXvZ"
      },
      "source": [
        "## Create the model"
      ]
    },
    {
      "cell_type": "code",
      "execution_count": null,
      "metadata": {},
      "outputs": [],
      "source": [
        "from tensorflow.keras.applications.efficientnet_v2 import EfficientNetV2S\n",
        "from tensorflow.keras.metrics import BinaryAccuracy, AUC, FalsePositives, FalseNegatives\n",
        "\n",
        "base = EfficientNetV2S(include_top=False)\n",
        "base.trainable = False\n",
        "\n",
        "model = tf.keras.Sequential([\n",
        "    tf.keras.layers.Resizing(384, 384, input_shape=(512, 640, 3)),\n",
        "    base,\n",
        "    tf.keras.layers.GlobalAveragePooling2D(),\n",
        "    tf.keras.layers.Dense(1, activation='sigmoid')\n",
        "])\n",
        "\n",
        "model.compile(optimizer=tf.keras.optimizers.Adam(),\n",
        "             loss=tf.keras.losses.BinaryCrossentropy(),\n",
        "             metrics=[BinaryAccuracy(), AUC(), FalsePositives(), FalseNegatives()])\n",
        "\n",
        "print(model.summary())"
      ]
    },
    {
      "cell_type": "markdown",
      "metadata": {
        "id": "EjZ3zX0hX-Q5"
      },
      "source": [
        "## Train the model"
      ]
    },
    {
      "cell_type": "code",
      "execution_count": null,
      "metadata": {
        "id": "LTNuDdBMX7xc"
      },
      "outputs": [],
      "source": [
        "from tensorflow.keras.callbacks import EarlyStopping\n",
        "\n",
        "callbacks = [EarlyStopping(patience=2, restore_best_weights=True)]\n",
        "\n",
        "model.fit(train_gen, epochs=1000, validation_data=test_gen, callbacks=callbacks)"
      ]
    },
    {
      "cell_type": "markdown",
      "metadata": {},
      "source": [
        "# Load or Save the Model"
      ]
    },
    {
      "cell_type": "code",
      "execution_count": null,
      "metadata": {},
      "outputs": [],
      "source": [
        "model = tf.keras.models.load_model('model')"
      ]
    },
    {
      "cell_type": "code",
      "execution_count": null,
      "metadata": {},
      "outputs": [],
      "source": [
        "model.save('model')"
      ]
    },
    {
      "cell_type": "markdown",
      "metadata": {
        "id": "NS5yngy6_1dO"
      },
      "source": [
        "## Test the model\n"
      ]
    },
    {
      "cell_type": "code",
      "execution_count": null,
      "metadata": {
        "id": "ExSEsv0b_6Nx"
      },
      "outputs": [],
      "source": [
        "loss, accuracy = cnn_model.evaluate(test_images, test_labels, batch_size=1)"
      ]
    }
  ],
  "metadata": {
    "accelerator": "GPU",
    "colab": {
      "authorship_tag": "ABX9TyPehCNxKIZwhZ61eTGu6GaJ",
      "collapsed_sections": [],
      "include_colab_link": true,
      "name": "Thermal_Image_Human_Detection.ipynb",
      "private_outputs": true,
      "provenance": []
    },
    "kernelspec": {
      "display_name": "Python 3.10.5 ('venv': venv)",
      "language": "python",
      "name": "python3"
    },
    "language_info": {
      "codemirror_mode": {
        "name": "ipython",
        "version": 3
      },
      "file_extension": ".py",
      "mimetype": "text/x-python",
      "name": "python",
      "nbconvert_exporter": "python",
      "pygments_lexer": "ipython3",
      "version": "3.10.5"
    },
    "vscode": {
      "interpreter": {
        "hash": "3f3cdebddbe2204af38c24e5fdc578d6a582093b375fdf5e2b06afcb814f8bfb"
      }
    }
  },
  "nbformat": 4,
  "nbformat_minor": 0
}
